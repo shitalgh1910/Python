{
 "cells": [
  {
   "cell_type": "code",
   "execution_count": null,
   "metadata": {},
   "outputs": [],
   "source": []
  },
  {
   "cell_type": "markdown",
   "metadata": {},
   "source": [
    "## WHAT IS A VARIABLE?\n",
    "### Variable is a reusable container for storing a value, a variable behaves as if it were the value it contains.\n",
    "One of the most powerful features of a programming language is the ability to manipulate variables. A variable is a name that referes to a value.\n"
   ]
  },
  {
   "cell_type": "markdown",
   "metadata": {},
   "source": [
    "## Assignment Statement\n",
    "An assignment statement creates a new variables and gives it a value.\n",
    "Variables can be as long as you like. They can contain both lettes and numbers, but they cannot begin with a number. It is legal to use uppercase letters, but it is conventional to use only lower case for variables name.\n",
    "The underscore character \"_\" can apprear in a name. It is often used in names with multiple words.\n"
   ]
  },
  {
   "cell_type": "code",
   "execution_count": 1,
   "metadata": {},
   "outputs": [
    {
     "ename": "SyntaxError",
     "evalue": "invalid decimal literal (4219445075.py, line 1)",
     "output_type": "error",
     "traceback": [
      "\u001b[0;36m  Cell \u001b[0;32mIn[1], line 1\u001b[0;36m\u001b[0m\n\u001b[0;31m    76reombons= \"Bigname\"\u001b[0m\n\u001b[0m     ^\u001b[0m\n\u001b[0;31mSyntaxError\u001b[0m\u001b[0;31m:\u001b[0m invalid decimal literal\n"
     ]
    }
   ],
   "source": [
    "76reombons= \"Bigname\""
   ]
  },
  {
   "cell_type": "markdown",
   "metadata": {},
   "source": [
    "The above variable is illegal because it begins with a number. Also \"class\" is one of the Python's keywords. The interpreter uses keywords ot recognise the structure of the program, and therefore they cannot be used as variable names.\n"
   ]
  },
  {
   "cell_type": "markdown",
   "metadata": {},
   "source": [
    "Variable Names:\n",
    "A variable can have a short name (like x and y) or a more descriptive name (age, carname, total_volume).\n",
    "Rules for Python variables:\n",
    "1. A variable name must start with a letter or the underscore character\n",
    "2. A variable name cannot start with a number\n",
    "3. A variable name can only contain alpha-numeric characters and underscores (A-z, 0-9, and _ )\n",
    "4. Variable names are case-sensitive (age, Age and AGE are three different variables)\n",
    "5. A variable name cannot be any of the Python keywords."
   ]
  },
  {
   "cell_type": "markdown",
   "metadata": {},
   "source": [
    "### Multiword variable names\n",
    "There are three technique you can use to make them more readable:\n",
    "1. Camel Case\n",
    "In this technique, each word, except the first, starts with a capital letter.\n",
    "myVariableName=\"John\"\n",
    "2. Pascal Case\n",
    "Here, each word starts with a capital letter.\n",
    "MyVariableName=\"John\"\n",
    "3. Snake case\n",
    "Each word is seperated by an underscore character.\n",
    "my_variable_name=\"John\""
   ]
  },
  {
   "cell_type": "markdown",
   "metadata": {},
   "source": [
    "### Assigning Multiple Variables\n",
    "Python allows you to assign values to multiple variables in one line:\n",
    "x, y, z = \"Orange\", \"Banana\", \"Cherry\"\n",
    "print(x)\n",
    "print(y)\n",
    "print(z)\n",
    "Note: Make sure the number of variables matches the number of values, or else you will get an error.\n",
    "\n"
   ]
  },
  {
   "cell_type": "markdown",
   "metadata": {},
   "source": [
    "### Unpack a collection\n",
    "In you have a collection of values in a list, tuple etc. Python allows you to extraxt the values into variables. This is called unpacking.\n",
    "Unpack a list:\n",
    "\n",
    " fruits = [\"apple\", \"banana\", \"cherry\"]\n",
    " x, y, z = fruits\n",
    " print(x)\n",
    " print(y)\n",
    " |print(z)\n"
   ]
  },
  {
   "cell_type": "code",
   "execution_count": 14,
   "metadata": {},
   "outputs": [
    {
     "name": "stdout",
     "output_type": "stream",
     "text": [
      "Banana\n",
      "The fruits is:Apple\n",
      "The fruits is:cherry\n"
     ]
    }
   ],
   "source": [
    "fruits=[\"Banana\",\"Apple\",\"cherry\"]\n",
    "x,y,z=fruits\n",
    "print(x)\n",
    "print(f\"The fruits is:{y}\")\n",
    "print(f\"The fruits is:{z}\")"
   ]
  },
  {
   "cell_type": "code",
   "execution_count": 15,
   "metadata": {},
   "outputs": [
    {
     "name": "stdout",
     "output_type": "stream",
     "text": [
      "Banana Apple cherry\n"
     ]
    }
   ],
   "source": [
    "print(x,y,z)"
   ]
  },
  {
   "cell_type": "markdown",
   "metadata": {},
   "source": [
    "## Order of Operations\n",
    "When an expression contains more than one operator, then order of evaluation depends on the order of operations. For mathematical operators, python follows mathematical acronym PEDMAS which is a useful way to remember:\n",
    "1. Parentheses\n",
    "2. Exponential\n",
    "3. Division and Multiplication\n",
    "4. Addition and Substration"
   ]
  },
  {
   "cell_type": "markdown",
   "metadata": {},
   "source": [
    "But There are two exceptions, one is The * opertor which multiply the string and another is The + operator which concatenate the string."
   ]
  },
  {
   "cell_type": "code",
   "execution_count": 18,
   "metadata": {},
   "outputs": [
    {
     "data": {
      "text/plain": [
       "'shitalghimire'"
      ]
     },
     "execution_count": 18,
     "metadata": {},
     "output_type": "execute_result"
    }
   ],
   "source": [
    "'shital' + 'ghimire'\n"
   ]
  },
  {
   "cell_type": "code",
   "execution_count": 19,
   "metadata": {},
   "outputs": [
    {
     "data": {
      "text/plain": [
       "'shitalshitalshital'"
      ]
     },
     "execution_count": 19,
     "metadata": {},
     "output_type": "execute_result"
    }
   ],
   "source": [
    "\"shital\"*3"
   ]
  },
  {
   "cell_type": "code",
   "execution_count": 21,
   "metadata": {},
   "outputs": [
    {
     "name": "stdout",
     "output_type": "stream",
     "text": [
      "PythonisAwesome\n"
     ]
    }
   ],
   "source": [
    "x=\"Python\"\n",
    "y=\"is\"\n",
    "z=\"Awesome\"\n",
    "print(x+y+z)"
   ]
  },
  {
   "cell_type": "code",
   "execution_count": 22,
   "metadata": {},
   "outputs": [
    {
     "name": "stdout",
     "output_type": "stream",
     "text": [
      "5 john\n"
     ]
    }
   ],
   "source": [
    "x=5\n",
    "y=\"john\"\n",
    "print(x,y)"
   ]
  },
  {
   "cell_type": "code",
   "execution_count": 23,
   "metadata": {},
   "outputs": [
    {
     "name": "stdout",
     "output_type": "stream",
     "text": [
      "<class 'str'>\n",
      "<class 'int'>\n",
      "<class 'float'>\n",
      "<class 'complex'>\n"
     ]
    }
   ],
   "source": [
    "x=\"Hello world\"\n",
    "print(type(x))\n",
    "y=10\n",
    "print(type(y))\n",
    "y1=10.2\n",
    "print(type(y1))\n",
    "y2=1j\n",
    "print(type(y2))"
   ]
  },
  {
   "cell_type": "code",
   "execution_count": 24,
   "metadata": {},
   "outputs": [
    {
     "name": "stdout",
     "output_type": "stream",
     "text": [
      "<class 'list'>\n"
     ]
    }
   ],
   "source": [
    "x=[\"apple\",\"Banana\"]\n",
    "print(type(x))"
   ]
  },
  {
   "cell_type": "code",
   "execution_count": 29,
   "metadata": {},
   "outputs": [],
   "source": [
    "x={\"name\":\"Jhon\"}"
   ]
  },
  {
   "cell_type": "code",
   "execution_count": 30,
   "metadata": {},
   "outputs": [
    {
     "name": "stdout",
     "output_type": "stream",
     "text": [
      "<class 'dict'>\n"
     ]
    }
   ],
   "source": [
    "print(type(x))"
   ]
  },
  {
   "cell_type": "code",
   "execution_count": 48,
   "metadata": {},
   "outputs": [],
   "source": [
    "import math"
   ]
  },
  {
   "cell_type": "markdown",
   "metadata": {},
   "source": [
    "1. The volume of a sphere with radius r is 4/3πr3\n",
    "What is the volume of a sphere with radius 5?"
   ]
  },
  {
   "cell_type": "code",
   "execution_count": 49,
   "metadata": {},
   "outputs": [],
   "source": [
    "def sphere_volume(radius):\n",
    "    return(4/3)*math.pi*(radius**3)\n",
    "radius=5\n",
    "volume=sphere_volume(radius)\n",
    "print(volume)"
   ]
  },
  {
   "cell_type": "markdown",
   "metadata": {},
   "source": [
    "2. Suppose the cover price of a book is $24.95, but bookstores get a 40% discount. Shipping costs\n",
    "$3 for the first copy and 75 cents for each additional copy. What is the total wholesale cost for\n",
    "60 copies?"
   ]
  },
  {
   "cell_type": "code",
   "execution_count": 62,
   "metadata": {},
   "outputs": [],
   "source": [
    "def wholesalecost(copies,coverprice,discount,first_shipping_cost,additional_shipping_cost):\n",
    "    discounted_price=coverprice*(1-discount)\n",
    "    total_book_cost=discounted_price*copies\n",
    "    totalshippingcost=first_shipping_cost+additional_shipping_cost*(copies-1)\n",
    "    return total_book_cost+totalshippingcost\n",
    "copies=60\n",
    "coverprice=24.95\n",
    "discount=0.40\n",
    "first_shipping_cost=3\n",
    "additional_shipping_cost=0.75\n",
    "total_cost=wholesalecost(copies,coverprice,discount,first_shipping_cost,additional_shipping_cost)\n",
    "print(f\"total wholesale cost for {copies}copies:${total_cost:.2f}\")\n"
   ]
  },
  {
   "cell_type": "code",
   "execution_count": null,
   "metadata": {},
   "outputs": [],
   "source": []
  }
 ],
 "metadata": {
  "kernelspec": {
   "display_name": "Python 3",
   "language": "python",
   "name": "python3"
  },
  "language_info": {
   "codemirror_mode": {
    "name": "ipython",
    "version": 3
   },
   "file_extension": ".py",
   "mimetype": "text/x-python",
   "name": "python",
   "nbconvert_exporter": "python",
   "pygments_lexer": "ipython3",
   "version": "3.12.0"
  }
 },
 "nbformat": 4,
 "nbformat_minor": 2
}
